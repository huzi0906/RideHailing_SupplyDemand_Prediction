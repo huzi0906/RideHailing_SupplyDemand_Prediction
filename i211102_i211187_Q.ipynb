{
 "cells": [
  {
   "cell_type": "code",
   "execution_count": null,
   "metadata": {},
   "outputs": [],
   "source": [
    "import pandas as pd\n",
    "import glob\n",
    "from sklearn.model_selection import train_test_split\n",
    "from sklearn.linear_model import LinearRegression"
   ]
  },
  {
   "cell_type": "code",
   "execution_count": null,
   "metadata": {},
   "outputs": [],
   "source": [
    "# Temporary Only select the first file\n",
    "data = pd.read_csv('./A03_data/training_data/order_data/order_data_2016-01-01', header=None)"
   ]
  },
  {
   "cell_type": "code",
   "execution_count": null,
   "metadata": {},
   "outputs": [],
   "source": [
    "# Load Data\n",
    "\n",
    "files = glob.glob(\"A03_data/training_data/order_data/*\")\n",
    "# data = [pd.read_csv(f) for f in files]\n",
    "# data = pd.concat(data, ignore_index=True)\n",
    "data = data.iloc[:, 0].str.split(\"\\t\", expand=True)\n",
    "data.columns = [\n",
    "    \"order_id\",\n",
    "    \"driver_id\",\n",
    "    \"passenger_id\",\n",
    "    \"start_region_hash\",\n",
    "    \"dest_region_hash\",\n",
    "    \"Price\",\n",
    "    \"Time\",\n",
    "]\n",
    "\n",
    "region = pd.read_csv(\"A03_data/training_data/cluster_map/cluster_map\", header=None)\n",
    "region = region.iloc[:, 0].str.split(\"\\t\", expand=True)\n",
    "region.columns = [\"region_hash\", \"region_id\"]"
   ]
  },
  {
   "cell_type": "code",
   "execution_count": null,
   "metadata": {},
   "outputs": [],
   "source": [
    "region"
   ]
  },
  {
   "cell_type": "code",
   "execution_count": null,
   "metadata": {},
   "outputs": [],
   "source": [
    "data"
   ]
  },
  {
   "cell_type": "code",
   "execution_count": null,
   "metadata": {},
   "outputs": [],
   "source": [
    "region_ids = region[\"region_id\"]\n",
    "\n",
    "region_list = [region for region in region_ids for _ in range(144)]\n",
    "time_slots = list(range(0, 144)) * len(region_ids)\n",
    "\n",
    "df = pd.DataFrame({\"region_id\": region_list, \"time_slot\": time_slots, \"orders_count\": 0, \"unfulfilled_orders_count\": 0, \"gap\": 0})\n",
    "\n",
    "df"
   ]
  },
  {
   "cell_type": "code",
   "execution_count": null,
   "metadata": {},
   "outputs": [],
   "source": [
    "# Temporary\n",
    "data = data.head(10000)"
   ]
  },
  {
   "cell_type": "code",
   "execution_count": null,
   "metadata": {},
   "outputs": [],
   "source": [
    "# iterate over data\n",
    "data[\"start_region_id\"] = data[\"start_region_hash\"].map(region.set_index(\"region_hash\")[\"region_id\"])\n",
    "\n",
    "# Calculate the time slot\n",
    "data[\"time_slot\"] = data[\"Time\"].str.split(\" \").str[1].str.split(\":\").apply(lambda x: (int(x[0]) * 60 + int(x[1])) // 10)\n",
    "\n",
    "# Group by start region id and time slot, and count the number of orders and unfulfilled orders\n",
    "df = data.groupby([\"start_region_id\", \"time_slot\"]).agg(orders_count=(\"driver_id\", lambda x: x.ne(\"NULL\").sum()), unfulfilled_orders_count=(\"driver_id\", lambda x: x.eq(\"NULL\").sum())).reset_index()\n",
    "\n",
    "# Calculate the gap\n",
    "df[\"gap\"] = df[\"orders_count\"] - df[\"unfulfilled_orders_count\"]\n",
    "\n",
    "df"
   ]
  },
  {
   "cell_type": "code",
   "execution_count": null,
   "metadata": {},
   "outputs": [],
   "source": [
    "# Model Training\n",
    "X = df[[\"start_region_id\", \"time_slot\"]]  # input data\n",
    "y = df[\"gap\"]  # output data\n",
    "\n",
    "# Convert 'time_slot' from string to datetime and then to timestamp\n",
    "X.loc[:, \"time_slot\"] = (pd.to_datetime(X[\"time_slot\"]).astype(int) / 10**9).astype(float)\n",
    "\n",
    "# Split the data into training and testing sets\n",
    "X_train, X_test, y_train, y_test = train_test_split(\n",
    "    X, y, test_size=0.2, random_state=42\n",
    ")\n",
    "\n",
    "# Create a linear regression model\n",
    "model = LinearRegression()\n",
    "\n",
    "# Train the model\n",
    "model.fit(X_train, y_train)"
   ]
  },
  {
   "cell_type": "code",
   "execution_count": null,
   "metadata": {},
   "outputs": [],
   "source": [
    "model.predict(X_test)"
   ]
  },
  {
   "cell_type": "code",
   "execution_count": null,
   "metadata": {},
   "outputs": [],
   "source": [
    "#show model \n",
    "print('Model Coefficients:')\n",
    "for feature, coef in zip(X_train.columns, model.coef_):\n",
    "    print(f'{feature}: {coef}')"
   ]
  },
  {
   "cell_type": "code",
   "execution_count": null,
   "metadata": {},
   "outputs": [],
   "source": [
    "#Print graph\n",
    "import matplotlib.pyplot as plt\n",
    "\n",
    "plt.scatter(df['time_slot'], df['gap'])\n",
    "plt.xlabel('Time Slot')\n",
    "plt.ylabel('Gap')\n",
    "plt.title('Time Slot vs Gap')\n",
    "plt.show()"
   ]
  }
 ],
 "metadata": {
  "kernelspec": {
   "display_name": ".venv",
   "language": "python",
   "name": "python3"
  },
  "language_info": {
   "codemirror_mode": {
    "name": "ipython",
    "version": 3
   },
   "file_extension": ".py",
   "mimetype": "text/x-python",
   "name": "python",
   "nbconvert_exporter": "python",
   "pygments_lexer": "ipython3",
   "version": "3.10.11"
  }
 },
 "nbformat": 4,
 "nbformat_minor": 2
}
